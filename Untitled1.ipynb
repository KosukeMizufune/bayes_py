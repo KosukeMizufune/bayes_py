{
 "cells": [
  {
   "cell_type": "code",
   "execution_count": 20,
   "metadata": {},
   "outputs": [],
   "source": [
    "data = read.table(\"simple_linear.txt\", sep=\",\", header=T)"
   ]
  },
  {
   "cell_type": "code",
   "execution_count": 21,
   "metadata": {},
   "outputs": [
    {
     "data": {
      "text/plain": [
       "\n",
       "Call:\n",
       "lm(formula = Y ~ X, data = data)\n",
       "\n",
       "Coefficients:\n",
       "(Intercept)            X  \n",
       "     -119.7         21.9  \n"
      ]
     },
     "metadata": {},
     "output_type": "display_data"
    }
   ],
   "source": [
    "(result = lm(Y~X, data=data))"
   ]
  },
  {
   "cell_type": "code",
   "execution_count": 22,
   "metadata": {},
   "outputs": [
    {
     "data": {
      "text/html": [
       "76.9892807243684"
      ],
      "text/latex": [
       "76.9892807243684"
      ],
      "text/markdown": [
       "76.9892807243684"
      ],
      "text/plain": [
       "[1] 76.98928"
      ]
     },
     "metadata": {},
     "output_type": "display_data"
    }
   ],
   "source": [
    "sqrt(var(result$res))"
   ]
  },
  {
   "cell_type": "code",
   "execution_count": 40,
   "metadata": {},
   "outputs": [],
   "source": [
    "MNLmodel <- function(x,PRICE,DISP) { \n",
    "    b1 <- x[1]\n",
    "    b2 <- x[2]\n",
    "    b01<- x[3]\n",
    "    b02<- x[4]\n",
    "    b03<- x[5]\n",
    "\n",
    "    # 効用の計算\n",
    "    U1<-b1*PRICE[,1]+b2*DISP[,1]+b01\n",
    "    U2<-b1*PRICE[,2]+b2*DISP[,2]+b02\n",
    "    U3<-b1*PRICE[,3]+b2*DISP[,3]+b03\n",
    "    U4<-b1*PRICE[,4]+b2*DISP[,4]\n",
    "\n",
    "    d<-exp(U1)+exp(U2)+exp(U3)+exp(U4)\n",
    "\n",
    "    # 選択確率の計算\n",
    "    P1<-exp(U1)/d\n",
    "    P2<-exp(U2)/d\n",
    "    P3<-exp(U3)/d\n",
    "    P4<-exp(U4)/d\n",
    "    Pr<-cbind(P1,P2,P3,P4)\n",
    "    return(Pr)\n",
    "}\n",
    "\n",
    "\n",
    "#### sample_data.r #####\n",
    "# MNLmodelの読み出し\n",
    "source(\"MNLmodel.r\") \n",
    "\n",
    "# 乱数のseedを設定\n",
    "set.seed(555)\n",
    "\n",
    "#パラメータの設定\n",
    "beta1<- -5\n",
    "beta2<- 2\n",
    "beta01<- 2\n",
    "beta02<- 1\n",
    "beta03<- 0\n",
    "betas<-c(beta1,beta2,beta01,beta02,beta03)\n",
    "\n",
    "hh<-100 #家計数\n",
    "pt<-20 #購買回数\n",
    "\n",
    "hhpt<-hh*pt\n",
    "\n",
    "\n",
    "ID<-matrix(0,hhpt,2) #個人ID\n",
    "BUY<-matrix(0,hhpt,4) #購買ダミー行列\n",
    "PRICE<-matrix(0,hhpt,4) #価格\n",
    "DISP<-matrix(0,hhpt,4) #エンド陳列の有無\n",
    "\n",
    "for(i in 1:hh){  #i 家計\n",
    "    for(j in 1:pt){  #j 購買機会\n",
    "       r<-(i-1)*pt+j \n",
    "       ID[r,1]<-i\n",
    "       ID[r,2]<-j\n",
    "\t\t\n",
    "       # ブランド1の販売価格，特別陳列の有無の発生\n",
    "       rn<-runif(2)\n",
    "       # 確率0.8で価格は1, 確率0.15で価格は0.9, 確率0.05で価格は0.8\n",
    "       if (rn[1]<0.8) SP<-1 else\n",
    "           {if (rn[1]<0.95) SP<-0.9 else SP<-0.8}\n",
    "       PRICE[r,1]<-SP\n",
    "       # 確率0.2で特別陳列あり\n",
    "       DISP[r,1]<-(rn[2]>0.8)\n",
    "\n",
    "       # ブランド2の販売価格，特別陳列の有無の発生\n",
    "       rn<-runif(2)\n",
    "       # 確率0.5で価格は1, 確率0.3で価格は0.8, 確率0.2で価格は0.6\n",
    "       if (rn[1]<0.5) SP<-1 else\n",
    "           {if (rn[1]<0.8) SP<-0.8 else SP<-0.6}\n",
    "       PRICE[r,2]<-SP\n",
    "       # 確率0.1で特別陳列あり\n",
    "       DISP[r,2]<-(rn[2]>0.9)\n",
    "\n",
    "       # ブランド3の販売価格，特別陳列の有無の発生\n",
    "       rn<-runif(2)\n",
    "       # 確率0.7で価格は1, 確率0.1で価格は0.8, 確率0.2で価格は0.6\n",
    "       if (rn[1]<0.7) SP<-1 else\n",
    "           {if (rn[1]<0.8) SP<-0.8 else SP<-0.6}\n",
    "       PRICE[r,3]<-SP\n",
    "       # 確率0.4で特別陳列あり\n",
    "       DISP[r,3]<-(rn[2]>0.6)\n",
    "\n",
    "       # ブランド4の販売価格，特別陳列の有無の発生\n",
    "       rn<-runif(2)\n",
    "       # 確率0.5で価格は1, 確率0.3で価格は0.8, 確率0.2で価格は0.6\n",
    "       if (rn[1]<0.5) SP<-1 else\n",
    "           {if (rn[1]<0.8) SP<-0.8 else SP<-0.6}\n",
    "       PRICE[r,4]<-SP\n",
    "       # 確率0.4で特別陳列あり\n",
    "       DISP[r,4]<-(rn[2]>0.6)\n",
    "   }\n",
    "}\n",
    "\n",
    "#選択確率の計算\n",
    "PPr<- MNLmodel(betas,PRICE,DISP)\n",
    "\n",
    "#購買ブランドを決定\n",
    "for(i in 1:hhpt){\n",
    "   CSPPr<-cumsum(PPr[i,])  #累積確率を計算\n",
    "   rn2<-runif(1)           #0~1の一様分布を発生\n",
    "   PPM<-which.max(CSPPr>=rn2) #乱数より大きな累積確率の値を持つ対象を選択\n",
    "   BUY[i,PPM]<- 1 \n",
    "}\n",
    "\n",
    "logitdata<-list(betas=betas,hh=hh,pt=pt,ID=ID, PRICE=PRICE,DISP=DISP,BUY=BUY)"
   ]
  },
  {
   "cell_type": "code",
   "execution_count": 104,
   "metadata": {
    "scrolled": true
   },
   "outputs": [],
   "source": [
    "tmp = data.frame(ID=ID[,1], Buy=BUY, Price=PRICE, Disp = DISP)"
   ]
  },
  {
   "cell_type": "code",
   "execution_count": 83,
   "metadata": {},
   "outputs": [],
   "source": [
    "write.csv(tmp, \"multi-nomial.csv\", row.names=F)"
   ]
  },
  {
   "cell_type": "code",
   "execution_count": 42,
   "metadata": {},
   "outputs": [
    {
     "name": "stderr",
     "output_type": "stream",
     "text": [
      "Loading required package: MASS\n",
      "MNP: R Package for Fitting the Multinomial Probit Model\n",
      "Version: 3.1-0\n",
      "Authors: Kosuke Imai [aut, cre],\n",
      "  David van Dyk [aut],\n",
      "  Hubert Jin [ctb]\n",
      "\n"
     ]
    }
   ],
   "source": [
    "library(MNP)"
   ]
  },
  {
   "cell_type": "code",
   "execution_count": 105,
   "metadata": {
    "scrolled": true
   },
   "outputs": [],
   "source": [
    "choice_set = c(\"A\", \"B\", \"C\", \"D\")\n",
    "tmp$choice <- apply(tmp[,2:5], 1, function(x){\n",
    "    return(choice_set[which(x == 1)])\n",
    "})"
   ]
  },
  {
   "cell_type": "code",
   "execution_count": 106,
   "metadata": {
    "scrolled": true
   },
   "outputs": [],
   "source": [
    "result <- mnp(choice ~ 1, \n",
    "              choiceX=list(A=cbind(Price.1, Disp.1),\n",
    "                           B=cbind(Price.2, Disp.2),\n",
    "                           C=cbind(Price.3, Disp.3),\n",
    "                           D=cbind(Price.4, Disp.4)),\n",
    "              cXnames=c(\"price\", \"disp\"),\n",
    "              data=tmp,\n",
    "              n.draws = 10000,\n",
    "              burnin = 5000,\n",
    "              latent = T\n",
    "             )"
   ]
  },
  {
   "cell_type": "code",
   "execution_count": 70,
   "metadata": {},
   "outputs": [
    {
     "data": {
      "text/plain": [
       "\n",
       "Call:\n",
       "mnp(formula = choice ~ 1, data = tmp, choiceX = list(A = cbind(Price.1,     Disp.1), B = cbind(Price.2, Disp.2), C = cbind(Price.3, Disp.3),     D = cbind(Price.4, Disp.4)), cXnames = c(\"price\", \"disp\"),     latent = T, n.draws = 10000, burnin = 5000)\n",
       "\n",
       "Parameter estimates (posterior means):\n",
       "(Intercept):B  (Intercept):C  (Intercept):D          price           disp  \n",
       "      -0.5191        -1.0567        -1.1430        -2.5970         1.0651  \n",
       "          B:B            B:C            B:D            C:C            C:D  \n",
       "       0.9445         0.3507         0.3074         0.9509         0.3778  \n",
       "          D:D  \n",
       "       1.1045  \n"
      ]
     },
     "metadata": {},
     "output_type": "display_data"
    }
   ],
   "source": [
    "result"
   ]
  },
  {
   "cell_type": "code",
   "execution_count": 130,
   "metadata": {},
   "outputs": [],
   "source": [
    "hoge = result$w\n",
    "write.csv(t(hoge[,,5000]), \"tmp.csv\", row.names=F)"
   ]
  },
  {
   "cell_type": "code",
   "execution_count": 103,
   "metadata": {},
   "outputs": [],
   "source": [
    "data = read.table(\"ch5data.txt\", sep=\"\\t\", header=T)\n",
    "choice_set = c(\"A\", \"B\", \"C\", \"D\")\n",
    "data$choice <- apply(data[,4:7], 1, function(x){\n",
    "    return(choice_set[which(x == 1)])\n",
    "})\n",
    "result <- mnp(choice ~ 1, \n",
    "              choiceX=list(A=cbind(PRICEPRIVATE, DISPLPRIVATE, FEATPRIVATE, FEATDISPLPRIVATE),\n",
    "                           B=cbind(PRICESUNSHINE, DISPLSUNSHINE, FEATSUNSHINE, FEATDISPLSUNSHIN),\n",
    "                           C=cbind(PRICEKEEBLER, DISPLKEEBLER, FEATKEEBLER, FEATDISPLKEEBLER),\n",
    "                           D=cbind(PRICENABISCO, DISPLNABISCO, FEATNABISCO, FEATDISPLNABISCO)),\n",
    "              cXnames=c(\"price\", \"DISPL\", \"feat\", \"featDISPL\"),\n",
    "              data=data,\n",
    "              n.draws = 10000,\n",
    "              burnin = 5000\n",
    "             )"
   ]
  },
  {
   "cell_type": "code",
   "execution_count": 104,
   "metadata": {
    "scrolled": true
   },
   "outputs": [
    {
     "data": {
      "text/plain": [
       "\n",
       "Call:\n",
       "mnp(formula = choice ~ 1, data = data, choiceX = list(A = cbind(PRICEPRIVATE, \n",
       "    DISPLPRIVATE, FEATPRIVATE, FEATDISPLPRIVATE), B = cbind(PRICESUNSHINE, \n",
       "    DISPLSUNSHINE, FEATSUNSHINE, FEATDISPLSUNSHIN), C = cbind(PRICEKEEBLER, \n",
       "    DISPLKEEBLER, FEATKEEBLER, FEATDISPLKEEBLER), D = cbind(PRICENABISCO, \n",
       "    DISPLNABISCO, FEATNABISCO, FEATDISPLNABISCO)), cXnames = c(\"price\", \n",
       "    \"DISPL\", \"feat\", \"featDISPL\"), n.draws = 10000, burnin = 5000)\n",
       "\n",
       "\n",
       "Coefficients:\n",
       "                  mean std.dev.     2.5%  97.5%\n",
       "(Intercept):B -0.02005  0.09135 -0.20253  0.146\n",
       "(Intercept):C  0.13531  0.12445 -0.14239  0.338\n",
       "(Intercept):D  0.92316  0.06333  0.78895  1.040\n",
       "price         -1.41983  0.13703 -1.68989 -1.158\n",
       "DISPL          0.02590  0.03016 -0.03306  0.085\n",
       "feat           0.17090  0.07060  0.03436  0.313\n",
       "featDISPL      0.24262  0.06116  0.13212  0.368\n",
       "\n",
       "Covariances:\n",
       "       mean std.dev.    2.5% 97.5%\n",
       "B:B 1.02005  0.10392 0.83283 1.215\n",
       "B:C 0.82912  0.11578 0.63191 1.066\n",
       "B:D 0.73204  0.10127 0.54205 0.893\n",
       "C:C 0.98216  0.19099 0.69398 1.418\n",
       "C:D 0.64183  0.09059 0.45987 0.800\n",
       "D:D 0.99779  0.16108 0.63864 1.265\n",
       "\n",
       "Base category: A\n",
       "Number of alternatives: 4\n",
       "Number of observations: 3292\n",
       "Number of estimated parameters: 12\n",
       "Number of stored MCMC draws: 5000\n"
      ]
     },
     "metadata": {},
     "output_type": "display_data"
    }
   ],
   "source": [
    "summary(result)"
   ]
  },
  {
   "cell_type": "code",
   "execution_count": null,
   "metadata": {},
   "outputs": [],
   "source": []
  },
  {
   "cell_type": "markdown",
   "metadata": {},
   "source": [
    "## bayesm\n",
    "- yの作り方に注意\n",
    "    - baseが基本pで設定されているのでcreateXするときにbaseを1とかにするとyをずらしてあげる必要がある(tmp$choiceのところ)"
   ]
  },
  {
   "cell_type": "code",
   "execution_count": 100,
   "metadata": {},
   "outputs": [
    {
     "name": "stdout",
     "output_type": "stream",
     "text": [
      "Table of y values\n",
      "y\n",
      "  1   2   3   4 \n",
      "525 352 395 728 \n",
      " \n",
      "Starting Gibbs Sampler for MNP\n",
      "   2000  obs;  4  choice alternatives;  5  indep vars (including intercepts)\n",
      " \n",
      "Table of y values\n",
      "y\n",
      "  1   2   3   4 \n",
      "525 352 395 728 \n",
      "Prior Parms:\n",
      "betabar\n",
      "[1] 0 0 0 0 0\n",
      "A\n",
      "     [,1] [,2] [,3] [,4] [,5]\n",
      "[1,] 0.01 0.00 0.00 0.00 0.00\n",
      "[2,] 0.00 0.01 0.00 0.00 0.00\n",
      "[3,] 0.00 0.00 0.01 0.00 0.00\n",
      "[4,] 0.00 0.00 0.00 0.01 0.00\n",
      "[5,] 0.00 0.00 0.00 0.00 0.01\n",
      "nu\n",
      "[1] 6\n",
      "V\n",
      "     [,1] [,2] [,3]\n",
      "[1,]    6    0    0\n",
      "[2,]    0    6    0\n",
      "[3,]    0    0    6\n",
      " \n",
      "MCMC Parms:\n",
      "   10000  reps; keeping every  1 th draw  nprint=  100\n",
      "initial beta=  0 0 0 0 0\n",
      "initial sigma=  1 0 0 0 1 0 0 0 1\n",
      " \n",
      " MCMC Iteration (est time to end - min) \n",
      " 100 (0.0)\n",
      " 200 (0.0)\n",
      " 300 (0.5)\n",
      " 400 (0.4)\n",
      " 500 (0.3)\n",
      " 600 (0.3)\n",
      " 700 (0.2)\n",
      " 800 (0.2)\n",
      " 900 (0.3)\n",
      " 1000 (0.3)\n",
      " 1100 (0.3)\n",
      " 1200 (0.2)\n",
      " 1300 (0.2)\n",
      " 1400 (0.2)\n",
      " 1500 (0.3)\n",
      " 1600 (0.3)\n",
      " 1700 (0.2)\n",
      " 1800 (0.2)\n",
      " 1900 (0.2)\n",
      " 2000 (0.2)\n",
      " 2100 (0.3)\n",
      " 2200 (0.2)\n",
      " 2300 (0.2)\n",
      " 2400 (0.2)\n",
      " 2500 (0.2)\n",
      " 2600 (0.2)\n",
      " 2700 (0.2)\n",
      " 2800 (0.2)\n",
      " 2900 (0.2)\n",
      " 3000 (0.2)\n",
      " 3100 (0.2)\n",
      " 3200 (0.2)\n",
      " 3300 (0.2)\n",
      " 3400 (0.2)\n",
      " 3500 (0.2)\n",
      " 3600 (0.2)\n",
      " 3700 (0.2)\n",
      " 3800 (0.2)\n",
      " 3900 (0.2)\n",
      " 4000 (0.2)\n",
      " 4100 (0.2)\n",
      " 4200 (0.2)\n",
      " 4300 (0.2)\n",
      " 4400 (0.1)\n",
      " 4500 (0.2)\n",
      " 4600 (0.2)\n",
      " 4700 (0.2)\n",
      " 4800 (0.1)\n",
      " 4900 (0.1)\n",
      " 5000 (0.1)\n",
      " 5100 (0.1)\n",
      " 5200 (0.1)\n",
      " 5300 (0.1)\n",
      " 5400 (0.1)\n",
      " 5500 (0.1)\n",
      " 5600 (0.1)\n",
      " 5700 (0.1)\n",
      " 5800 (0.1)\n",
      " 5900 (0.1)\n",
      " 6000 (0.1)\n",
      " 6100 (0.1)\n",
      " 6200 (0.1)\n",
      " 6300 (0.1)\n",
      " 6400 (0.1)\n",
      " 6500 (0.1)\n",
      " 6600 (0.1)\n",
      " 6700 (0.1)\n",
      " 6800 (0.1)\n",
      " 6900 (0.1)\n",
      " 7000 (0.1)\n",
      " 7100 (0.1)\n",
      " 7200 (0.1)\n",
      " 7300 (0.1)\n",
      " 7400 (0.1)\n",
      " 7500 (0.1)\n",
      " 7600 (0.1)\n",
      " 7700 (0.1)\n",
      " 7800 (0.1)\n",
      " 7900 (0.1)\n",
      " 8000 (0.1)\n",
      " 8100 (0.1)\n",
      " 8200 (0.0)\n",
      " 8300 (0.0)\n",
      " 8400 (0.0)\n",
      " 8500 (0.0)\n",
      " 8600 (0.0)\n",
      " 8700 (0.0)\n",
      " 8800 (0.0)\n",
      " 8900 (0.0)\n",
      " 9000 (0.0)\n",
      " 9100 (0.0)\n",
      " 9200 (0.0)\n",
      " 9300 (0.0)\n",
      " 9400 (0.0)\n",
      " 9500 (0.0)\n",
      " 9600 (0.0)\n",
      " 9700 (0.0)\n",
      " 9800 (0.0)\n",
      " 9900 (0.0)\n",
      " 10000 (0.0)\n",
      " Total Time Elapsed: 0.27 \n"
     ]
    }
   ],
   "source": [
    "library(bayesm)\n",
    "tmp = data.frame(ID=ID[,1], Buy=BUY, Price=PRICE, Disp = DISP)\n",
    "tmp$choice <- apply(tmp[,2:5], 1, function(x){\n",
    "    if (which(x == 1) == 1){\n",
    "        alt = 4\n",
    "    }\n",
    "    else{\n",
    "        alt = which(x == 1) - 1\n",
    "    }\n",
    "    return (alt)\n",
    "})\n",
    "x = createX(p=4, na=2, nd=NULL, Xa=tmp[,6:13], Xd=NULL, DIFF=T, base=1, INT=T)\n",
    "Data1 = list(y=tmp$choice, X=x, p=4)\n",
    "Mcmc1 = list(R=10000, keep=1)\n",
    "out = rmnpGibbs(Data=Data1, Mcmc=Mcmc1)\n",
    "betatilde = out$betadraw / sqrt(out$sigmadraw[,1])\n",
    "attributes(betatilde)$class = \"bayesm.mat\"\n",
    "\n",
    "sigmadraw = out$sigmadraw / out$sigmadraw[,1]\n",
    "attributes(sigmadraw)$class = \"bayesm.var\""
   ]
  },
  {
   "cell_type": "code",
   "execution_count": 101,
   "metadata": {
    "scrolled": true
   },
   "outputs": [
    {
     "data": {
      "text/html": [
       "<ol class=list-inline>\n",
       "\t<li>-0.539194963749643</li>\n",
       "\t<li>-1.09796553667294</li>\n",
       "\t<li>-1.18623220465915</li>\n",
       "\t<li>-2.67438949467785</li>\n",
       "\t<li>1.10395778664407</li>\n",
       "</ol>\n"
      ],
      "text/latex": [
       "\\begin{enumerate*}\n",
       "\\item -0.539194963749643\n",
       "\\item -1.09796553667294\n",
       "\\item -1.18623220465915\n",
       "\\item -2.67438949467785\n",
       "\\item 1.10395778664407\n",
       "\\end{enumerate*}\n"
      ],
      "text/markdown": [
       "1. -0.539194963749643\n",
       "2. -1.09796553667294\n",
       "3. -1.18623220465915\n",
       "4. -2.67438949467785\n",
       "5. 1.10395778664407\n",
       "\n",
       "\n"
      ],
      "text/plain": [
       "[1] -0.539195 -1.097966 -1.186232 -2.674389  1.103958"
      ]
     },
     "metadata": {},
     "output_type": "display_data"
    }
   ],
   "source": [
    "apply(betatilde[5001:10000,], 2, mean)"
   ]
  },
  {
   "cell_type": "code",
   "execution_count": 102,
   "metadata": {},
   "outputs": [
    {
     "data": {
      "text/html": [
       "<ol class=list-inline>\n",
       "\t<li>1</li>\n",
       "\t<li>0.360188451284246</li>\n",
       "\t<li>0.3258946411125</li>\n",
       "\t<li>0.360188451284246</li>\n",
       "\t<li>1.01516744884661</li>\n",
       "\t<li>0.399056089367238</li>\n",
       "\t<li>0.3258946411125</li>\n",
       "\t<li>0.399056089367238</li>\n",
       "\t<li>1.18328551732344</li>\n",
       "</ol>\n"
      ],
      "text/latex": [
       "\\begin{enumerate*}\n",
       "\\item 1\n",
       "\\item 0.360188451284246\n",
       "\\item 0.3258946411125\n",
       "\\item 0.360188451284246\n",
       "\\item 1.01516744884661\n",
       "\\item 0.399056089367238\n",
       "\\item 0.3258946411125\n",
       "\\item 0.399056089367238\n",
       "\\item 1.18328551732344\n",
       "\\end{enumerate*}\n"
      ],
      "text/markdown": [
       "1. 1\n",
       "2. 0.360188451284246\n",
       "3. 0.3258946411125\n",
       "4. 0.360188451284246\n",
       "5. 1.01516744884661\n",
       "6. 0.399056089367238\n",
       "7. 0.3258946411125\n",
       "8. 0.399056089367238\n",
       "9. 1.18328551732344\n",
       "\n",
       "\n"
      ],
      "text/plain": [
       "[1] 1.0000000 0.3601885 0.3258946 0.3601885 1.0151674 0.3990561 0.3258946\n",
       "[8] 0.3990561 1.1832855"
      ]
     },
     "metadata": {},
     "output_type": "display_data"
    }
   ],
   "source": [
    "apply(sigmadraw[5001:10000,], 2, mean)"
   ]
  },
  {
   "cell_type": "markdown",
   "metadata": {},
   "source": [
    "## 階層ベイズ"
   ]
  },
  {
   "cell_type": "code",
   "execution_count": 31,
   "metadata": {},
   "outputs": [],
   "source": [
    "library(bayesm)\n",
    "set.seed(555)\n",
    "\n",
    "nvar<- 3    ## ロジットモデルの説明変数の数\n",
    "hh<- 200    ## 個人数\n",
    "nobs<- 10   ## 個人あたりの選択回数\n",
    "nz<- 2      ## 個人属性の説明変数の数\n",
    "\n",
    "\n",
    "Z<- matrix(c(rep(1,hh),runif(hh,min=-1,max=1)),hh,nz)\n",
    "Delta<- matrix(c(-2,-1,2,1,0,1),nz,nvar)\n",
    "iota<- matrix(1,nvar,1)\n",
    "Vbeta<- diag(nvar)+.5*iota%*%t(iota)\n",
    "\n",
    "## シミュレーションデータの発生\n",
    "hhdata=NULL\n",
    "y_out <- NULL\n",
    "x_out <- NULL\n",
    "index <- NULL\n",
    "for (i in 1:hh) { \n",
    "  beta<- t(Delta)%*%Z[i,]+as.vector(t(chol(Vbeta))%*%rnorm(nvar))\n",
    "  X<- matrix(runif(nobs*nvar),nobs,nvar)\n",
    "  prob<- exp(X%*%beta)/(1+exp(X%*%beta)) \n",
    "  unif<- runif(nobs,0,1)\n",
    "  y<- ifelse(unif<prob,1,0)\n",
    "  y_out <- append(y_out, y)\n",
    "  x_out <- rbind(x_out, X)\n",
    "  index <- append(index, rep(i-1, 10))\n",
    "  hhdata[[i]]<- list(y=y,X=X,beta=beta)\n",
    "}\n",
    "\n"
   ]
  },
  {
   "cell_type": "code",
   "execution_count": 32,
   "metadata": {
    "scrolled": true
   },
   "outputs": [],
   "source": [
    "tmp <- data.frame(index=index, y=y_out, x=x_out)\n",
    "write.csv(tmp, \"hier_logit_all.csv\", row.names=F)\n",
    "write.csv(Z, \"hier_logit_person.csv\", row.names=F)"
   ]
  },
  {
   "cell_type": "code",
   "execution_count": 23,
   "metadata": {},
   "outputs": [
    {
     "name": "stdout",
     "output_type": "stream",
     "text": [
      "繰り返し数 100\n",
      "繰り返し数 200\n",
      "繰り返し数 300\n",
      "繰り返し数 400\n",
      "繰り返し数 500\n",
      "繰り返し数 600\n",
      "繰り返し数 700\n",
      "繰り返し数 800\n",
      "繰り返し数 900\n",
      "繰り返し数 1000\n",
      "繰り返し数 1100\n",
      "繰り返し数 1200\n",
      "繰り返し数 1300\n",
      "繰り返し数 1400\n",
      "繰り返し数 1500\n",
      "繰り返し数 1600\n",
      "繰り返し数 1700\n",
      "繰り返し数 1800\n",
      "繰り返し数 1900\n",
      "繰り返し数 2000\n",
      "繰り返し数 2100\n",
      "繰り返し数 2200\n",
      "繰り返し数 2300\n",
      "繰り返し数 2400\n",
      "繰り返し数 2500\n",
      "繰り返し数 2600\n",
      "繰り返し数 2700\n",
      "繰り返し数 2800\n",
      "繰り返し数 2900\n",
      "繰り返し数 3000\n",
      "繰り返し数 3100\n",
      "繰り返し数 3200\n",
      "繰り返し数 3300\n",
      "繰り返し数 3400\n",
      "繰り返し数 3500\n",
      "繰り返し数 3600\n",
      "繰り返し数 3700\n",
      "繰り返し数 3800\n",
      "繰り返し数 3900\n",
      "繰り返し数 4000\n",
      "繰り返し数 4100\n",
      "繰り返し数 4200\n",
      "繰り返し数 4300\n",
      "繰り返し数 4400\n",
      "繰り返し数 4500\n",
      "繰り返し数 4600\n",
      "繰り返し数 4700\n",
      "繰り返し数 4800\n",
      "繰り返し数 4900\n",
      "繰り返し数 5000\n",
      "繰り返し数 5100\n",
      "繰り返し数 5200\n",
      "繰り返し数 5300\n",
      "繰り返し数 5400\n",
      "繰り返し数 5500\n",
      "繰り返し数 5600\n",
      "繰り返し数 5700\n",
      "繰り返し数 5800\n",
      "繰り返し数 5900\n",
      "繰り返し数 6000\n",
      "繰り返し数 6100\n",
      "繰り返し数 6200\n",
      "繰り返し数 6300\n",
      "繰り返し数 6400\n",
      "繰り返し数 6500\n",
      "繰り返し数 6600\n",
      "繰り返し数 6700\n",
      "繰り返し数 6800\n",
      "繰り返し数 6900\n",
      "繰り返し数 7000\n",
      "繰り返し数 7100\n",
      "繰り返し数 7200\n",
      "繰り返し数 7300\n",
      "繰り返し数 7400\n",
      "繰り返し数 7500\n",
      "繰り返し数 7600\n",
      "繰り返し数 7700\n",
      "繰り返し数 7800\n",
      "繰り返し数 7900\n",
      "繰り返し数 8000\n",
      "繰り返し数 8100\n",
      "繰り返し数 8200\n",
      "繰り返し数 8300\n",
      "繰り返し数 8400\n",
      "繰り返し数 8500\n",
      "繰り返し数 8600\n",
      "繰り返し数 8700\n",
      "繰り返し数 8800\n",
      "繰り返し数 8900\n",
      "繰り返し数 9000\n",
      "繰り返し数 9100\n",
      "繰り返し数 9200\n",
      "繰り返し数 9300\n",
      "繰り返し数 9400\n",
      "繰り返し数 9500\n",
      "繰り返し数 9600\n",
      "繰り返し数 9700\n",
      "繰り返し数 9800\n",
      "繰り返し数 9900\n",
      "繰り返し数 10000\n",
      "繰り返し数 10100\n",
      "繰り返し数 10200\n",
      "繰り返し数 10300\n",
      "繰り返し数 10400\n",
      "繰り返し数 10500\n",
      "繰り返し数 10600\n",
      "繰り返し数 10700\n",
      "繰り返し数 10800\n",
      "繰り返し数 10900\n",
      "繰り返し数 11000\n",
      "繰り返し数 11100\n",
      "繰り返し数 11200\n",
      "繰り返し数 11300\n",
      "繰り返し数 11400\n",
      "繰り返し数 11500\n",
      "繰り返し数 11600\n",
      "繰り返し数 11700\n",
      "繰り返し数 11800\n",
      "繰り返し数 11900\n",
      "繰り返し数 12000\n",
      "繰り返し数 12100\n",
      "繰り返し数 12200\n",
      "繰り返し数 12300\n",
      "繰り返し数 12400\n",
      "繰り返し数 12500\n",
      "繰り返し数 12600\n",
      "繰り返し数 12700\n",
      "繰り返し数 12800\n",
      "繰り返し数 12900\n",
      "繰り返し数 13000\n",
      "繰り返し数 13100\n",
      "繰り返し数 13200\n",
      "繰り返し数 13300\n",
      "繰り返し数 13400\n",
      "繰り返し数 13500\n",
      "繰り返し数 13600\n",
      "繰り返し数 13700\n",
      "繰り返し数 13800\n",
      "繰り返し数 13900\n",
      "繰り返し数 14000\n",
      "繰り返し数 14100\n",
      "繰り返し数 14200\n",
      "繰り返し数 14300\n",
      "繰り返し数 14400\n",
      "繰り返し数 14500\n",
      "繰り返し数 14600\n",
      "繰り返し数 14700\n",
      "繰り返し数 14800\n",
      "繰り返し数 14900\n",
      "繰り返し数 15000\n",
      "繰り返し数 15100\n",
      "繰り返し数 15200\n",
      "繰り返し数 15300\n",
      "繰り返し数 15400\n",
      "繰り返し数 15500\n",
      "繰り返し数 15600\n",
      "繰り返し数 15700\n",
      "繰り返し数 15800\n",
      "繰り返し数 15900\n",
      "繰り返し数 16000\n",
      "繰り返し数 16100\n",
      "繰り返し数 16200\n",
      "繰り返し数 16300\n",
      "繰り返し数 16400\n",
      "繰り返し数 16500\n",
      "繰り返し数 16600\n",
      "繰り返し数 16700\n",
      "繰り返し数 16800\n",
      "繰り返し数 16900\n",
      "繰り返し数 17000\n",
      "繰り返し数 17100\n",
      "繰り返し数 17200\n",
      "繰り返し数 17300\n",
      "繰り返し数 17400\n",
      "繰り返し数 17500\n",
      "繰り返し数 17600\n",
      "繰り返し数 17700\n",
      "繰り返し数 17800\n",
      "繰り返し数 17900\n",
      "繰り返し数 18000\n",
      "繰り返し数 18100\n",
      "繰り返し数 18200\n",
      "繰り返し数 18300\n",
      "繰り返し数 18400\n",
      "繰り返し数 18500\n",
      "繰り返し数 18600\n",
      "繰り返し数 18700\n",
      "繰り返し数 18800\n",
      "繰り返し数 18900\n",
      "繰り返し数 19000\n",
      "繰り返し数 19100\n",
      "繰り返し数 19200\n",
      "繰り返し数 19300\n",
      "繰り返し数 19400\n",
      "繰り返し数 19500\n",
      "繰り返し数 19600\n",
      "繰り返し数 19700\n",
      "繰り返し数 19800\n",
      "繰り返し数 19900\n",
      "繰り返し数 20000\n"
     ]
    }
   ],
   "source": [
    "## 2項ロジットモデルの対数尤度関数の定義\n",
    "loglike <- function(y, X, beta) {\n",
    "    p1 <- exp(X %*% beta)/(1 + exp(X %*% beta))\n",
    "    ll <- y * log(p1) + (1 - y) * log(1 - p1)\n",
    "   sum(ll)\n",
    "}\n",
    "\n",
    "## ベイズ推定のための設定\n",
    "R<- 20000\n",
    "sbeta<- 1.5\n",
    "keep<- 10\n",
    "\n",
    "nhh <- length(hhdata)\n",
    "nz <- ncol(Z)\n",
    "\n",
    "nvar <- ncol(X)\n",
    "## 事前分布のパラメータ\n",
    "nu<- nvar+3\n",
    "V<- nu * diag(rep(1,nvar))\n",
    "ADelta <- 0.01 * diag(nz)\n",
    "Deltabar <- matrix(rep(0, nz * nvar), nz, nvar)\n",
    "\n",
    "\n",
    "## サンプリング結果の保存スペースの作成\n",
    "Vbetadraw <- matrix(double(floor(R/keep) * nvar * nvar), floor(R/keep), nvar * nvar)\n",
    "betadraw <- array(double(floor(R/keep) * nhh * nvar), dim = c(nhh, nvar, floor(R/keep)))\n",
    "Deltadraw <- matrix(double(floor(R/keep) * nvar * nz), floor(R/keep), nvar * nz)\n",
    "\n",
    "## 棄却率と対数尤度\n",
    "reject <- array(0, dim = c(R/keep))\n",
    "llike <- array(0, dim = c(R/keep))\n",
    "\n",
    "## 初期値の設定\n",
    "oldbetas <- matrix(double(nhh * nvar), nhh, nvar)\n",
    "oldVbeta <- diag(nvar)\n",
    "oldVbetai <- diag(nvar)\n",
    "oldDelta <- matrix(double(nvar * nz), nz, nvar)\n",
    "betad <- array(0, dim = c(nvar))\n",
    "betan <- array(0, dim = c(nvar))\n",
    "\n",
    "\n",
    "## 階層ベイズ2項ロジットモデルによる推定\n",
    "for (iter in 1:R) {\n",
    "   rej <- 0\n",
    "   logl <- 0\n",
    "   sV <- sbeta * oldVbeta\n",
    "   root <- t(chol(sV))\n",
    "\n",
    "   ## MH法による個人別betaのサンプリング\n",
    "   for (i in 1:nhh) {\n",
    "        betad <- oldbetas[i, ]\n",
    "        betan <- betad + root %*% rnorm(nvar)\n",
    "        lognew <- loglike(hhdata[[i]]$y, hhdata[[i]]$X, betan)\n",
    "        logold <- loglike(hhdata[[i]]$y, hhdata[[i]]$X, betad)\n",
    "        logknew <- -0.5 * (t(betan) - Z[i, ] %*% oldDelta) %*% oldVbetai %*% (betan - t(Z[i, ] %*% oldDelta))\n",
    "        logkold <- -0.5 * (t(betad) - Z[i, ] %*% oldDelta) %*% oldVbetai %*% (betad - t(Z[i, ] %*% oldDelta))\n",
    "        alpha <- exp(lognew + logknew - logold - logkold)\n",
    "        if (alpha == \"NaN\") \n",
    "              alpha = -1\n",
    "        u <- runif(1)\n",
    "        if (u < alpha) {\n",
    "             oldbetas[i, ] <- betan\n",
    "             logl <- logl + lognew\n",
    "        }\n",
    "        else {\n",
    "             logl <- logl + logold\n",
    "             rej <- rej + 1\n",
    "        }\n",
    "    }\n",
    "    \n",
    "　　## 多変量回帰によるDeltaのギブスサンプリング(bayesmのrmultiregを利用)\n",
    "　　out <- rmultireg(oldbetas, Z, Deltabar, ADelta, nu, V)\n",
    "    oldDelta <- out$B\n",
    "    oldVbeta <- out$Sigma\n",
    "    oldVbetai <- solve(oldVbeta)\n",
    "\n",
    "    ## 現在までのサンプリング数の表示\n",
    "    if ((iter%%100) == 0) {\n",
    "         cat(\"繰り返し数\", iter, fill = TRUE)\n",
    "    }\n",
    "    ## keep回毎にサンプリング結果を保存\n",
    "    mkeep <- iter/keep\n",
    "    if (iter%%keep == 0){\n",
    "       Deltadraw[mkeep, ] <- as.vector(oldDelta)\n",
    "       Vbetadraw[mkeep, ] <- as.vector(oldVbeta)\n",
    "       betadraw[, , mkeep] <- oldbetas\n",
    "       llike[mkeep] <- logl\n",
    "       reject[mkeep] <- rej/nhh\n",
    "    }\n",
    "}"
   ]
  },
  {
   "cell_type": "code",
   "execution_count": 133,
   "metadata": {},
   "outputs": [
    {
     "data": {
      "text/html": [
       "<table>\n",
       "<tbody>\n",
       "\t<tr><td>1.5</td><td>0.5</td><td>0.5</td></tr>\n",
       "\t<tr><td>0.5</td><td>1.5</td><td>0.5</td></tr>\n",
       "\t<tr><td>0.5</td><td>0.5</td><td>1.5</td></tr>\n",
       "</tbody>\n",
       "</table>\n"
      ],
      "text/latex": [
       "\\begin{tabular}{lll}\n",
       "\t 1.5 & 0.5 & 0.5\\\\\n",
       "\t 0.5 & 1.5 & 0.5\\\\\n",
       "\t 0.5 & 0.5 & 1.5\\\\\n",
       "\\end{tabular}\n"
      ],
      "text/markdown": [
       "\n",
       "| 1.5 | 0.5 | 0.5 | \n",
       "| 0.5 | 1.5 | 0.5 | \n",
       "| 0.5 | 0.5 | 1.5 | \n",
       "\n",
       "\n"
      ],
      "text/plain": [
       "     [,1] [,2] [,3]\n",
       "[1,] 1.5  0.5  0.5 \n",
       "[2,] 0.5  1.5  0.5 \n",
       "[3,] 0.5  0.5  1.5 "
      ]
     },
     "metadata": {},
     "output_type": "display_data"
    },
    {
     "data": {
      "text/html": [
       "<table>\n",
       "<tbody>\n",
       "\t<tr><td>-2</td><td>2 </td><td>0 </td></tr>\n",
       "\t<tr><td>-1</td><td>1 </td><td>1 </td></tr>\n",
       "</tbody>\n",
       "</table>\n"
      ],
      "text/latex": [
       "\\begin{tabular}{lll}\n",
       "\t -2 & 2  & 0 \\\\\n",
       "\t -1 & 1  & 1 \\\\\n",
       "\\end{tabular}\n"
      ],
      "text/markdown": [
       "\n",
       "| -2 | 2  | 0  | \n",
       "| -1 | 1  | 1  | \n",
       "\n",
       "\n"
      ],
      "text/plain": [
       "     [,1] [,2] [,3]\n",
       "[1,] -2   2    0   \n",
       "[2,] -1   1    1   "
      ]
     },
     "metadata": {},
     "output_type": "display_data"
    }
   ],
   "source": [
    "Vbeta\n",
    "Delta"
   ]
  },
  {
   "cell_type": "code",
   "execution_count": 25,
   "metadata": {},
   "outputs": [
    {
     "data": {
      "text/html": [
       "<ol class=list-inline>\n",
       "\t<li>-2.33335853124766</li>\n",
       "\t<li>-1.02001883958312</li>\n",
       "\t<li>2.54758966874176</li>\n",
       "\t<li>1.00519336784593</li>\n",
       "\t<li>-0.311558106024513</li>\n",
       "\t<li>1.37510640353787</li>\n",
       "</ol>\n"
      ],
      "text/latex": [
       "\\begin{enumerate*}\n",
       "\\item -2.33335853124766\n",
       "\\item -1.02001883958312\n",
       "\\item 2.54758966874176\n",
       "\\item 1.00519336784593\n",
       "\\item -0.311558106024513\n",
       "\\item 1.37510640353787\n",
       "\\end{enumerate*}\n"
      ],
      "text/markdown": [
       "1. -2.33335853124766\n",
       "2. -1.02001883958312\n",
       "3. 2.54758966874176\n",
       "4. 1.00519336784593\n",
       "5. -0.311558106024513\n",
       "6. 1.37510640353787\n",
       "\n",
       "\n"
      ],
      "text/plain": [
       "[1] -2.3333585 -1.0200188  2.5475897  1.0051934 -0.3115581  1.3751064"
      ]
     },
     "metadata": {},
     "output_type": "display_data"
    },
    {
     "data": {
      "text/html": [
       "<table>\n",
       "<tbody>\n",
       "\t<tr><th scope=row>Deltas</th><td>-2.000000  </td><td>-1.0000000 </td><td>2.000000   </td><td>1.0000000  </td><td> 0.00000000</td><td>1.0000000  </td></tr>\n",
       "\t<tr><th scope=row>2.5%</th><td>-2.817155  </td><td>-1.7135419 </td><td>2.205411   </td><td>0.3779683  </td><td>-0.72768644</td><td>0.7685007  </td></tr>\n",
       "\t<tr><th scope=row>50%</th><td>-2.319617  </td><td>-1.0189910 </td><td>2.539532   </td><td>1.0223635  </td><td>-0.30213898</td><td>1.3767620  </td></tr>\n",
       "\t<tr><th scope=row>97.5%</th><td>-1.859696  </td><td>-0.2860094 </td><td>2.960304   </td><td>1.6666725  </td><td> 0.05762941</td><td>2.0024476  </td></tr>\n",
       "</tbody>\n",
       "</table>\n"
      ],
      "text/latex": [
       "\\begin{tabular}{r|llllll}\n",
       "\tDeltas & -2.000000   & -1.0000000  & 2.000000    & 1.0000000   &  0.00000000 & 1.0000000  \\\\\n",
       "\t2.5\\% & -2.817155   & -1.7135419  & 2.205411    & 0.3779683   & -0.72768644 & 0.7685007  \\\\\n",
       "\t50\\% & -2.319617   & -1.0189910  & 2.539532    & 1.0223635   & -0.30213898 & 1.3767620  \\\\\n",
       "\t97.5\\% & -1.859696   & -0.2860094  & 2.960304    & 1.6666725   &  0.05762941 & 2.0024476  \\\\\n",
       "\\end{tabular}\n"
      ],
      "text/markdown": [
       "\n",
       "| Deltas | -2.000000   | -1.0000000  | 2.000000    | 1.0000000   |  0.00000000 | 1.0000000   | \n",
       "| 2.5% | -2.817155   | -1.7135419  | 2.205411    | 0.3779683   | -0.72768644 | 0.7685007   | \n",
       "| 50% | -2.319617   | -1.0189910  | 2.539532    | 1.0223635   | -0.30213898 | 1.3767620   | \n",
       "| 97.5% | -1.859696   | -0.2860094  | 2.960304    | 1.6666725   |  0.05762941 | 2.0024476   | \n",
       "\n",
       "\n"
      ],
      "text/plain": [
       "       [,1]      [,2]       [,3]     [,4]      [,5]        [,6]     \n",
       "Deltas -2.000000 -1.0000000 2.000000 1.0000000  0.00000000 1.0000000\n",
       "2.5%   -2.817155 -1.7135419 2.205411 0.3779683 -0.72768644 0.7685007\n",
       "50%    -2.319617 -1.0189910 2.539532 1.0223635 -0.30213898 1.3767620\n",
       "97.5%  -1.859696 -0.2860094 2.960304 1.6666725  0.05762941 2.0024476"
      ]
     },
     "metadata": {},
     "output_type": "display_data"
    }
   ],
   "source": [
    "R0<-floor(10000/10)+1\n",
    "R1=R/10\n",
    "\n",
    "## Deltaの統計値\n",
    "Deltas<-as.vector(Delta)\n",
    "apply(Deltadraw[R0:R1,],2,mean)\n",
    "rbind(Deltas,apply(Deltadraw[R0:R1,],2,quantile,probs=c(0.025,0.5,0.975)))"
   ]
  },
  {
   "cell_type": "code",
   "execution_count": 132,
   "metadata": {},
   "outputs": [
    {
     "data": {
      "text/html": [
       "<ol class=list-inline>\n",
       "\t<li>1.99889684100461</li>\n",
       "\t<li>0.636157173052267</li>\n",
       "\t<li>0.880461177111227</li>\n",
       "\t<li>0.636157173052267</li>\n",
       "\t<li>1.0105614441213</li>\n",
       "\t<li>0.489453364289839</li>\n",
       "\t<li>0.880461177111227</li>\n",
       "\t<li>0.489453364289839</li>\n",
       "\t<li>1.46076303965348</li>\n",
       "</ol>\n"
      ],
      "text/latex": [
       "\\begin{enumerate*}\n",
       "\\item 1.99889684100461\n",
       "\\item 0.636157173052267\n",
       "\\item 0.880461177111227\n",
       "\\item 0.636157173052267\n",
       "\\item 1.0105614441213\n",
       "\\item 0.489453364289839\n",
       "\\item 0.880461177111227\n",
       "\\item 0.489453364289839\n",
       "\\item 1.46076303965348\n",
       "\\end{enumerate*}\n"
      ],
      "text/markdown": [
       "1. 1.99889684100461\n",
       "2. 0.636157173052267\n",
       "3. 0.880461177111227\n",
       "4. 0.636157173052267\n",
       "5. 1.0105614441213\n",
       "6. 0.489453364289839\n",
       "7. 0.880461177111227\n",
       "8. 0.489453364289839\n",
       "9. 1.46076303965348\n",
       "\n",
       "\n"
      ],
      "text/plain": [
       "[1] 1.9988968 0.6361572 0.8804612 0.6361572 1.0105614 0.4894534 0.8804612\n",
       "[8] 0.4894534 1.4607630"
      ]
     },
     "metadata": {},
     "output_type": "display_data"
    }
   ],
   "source": [
    "apply(Vbetadraw[R0:R1,],2,mean)"
   ]
  },
  {
   "cell_type": "code",
   "execution_count": 136,
   "metadata": {},
   "outputs": [
    {
     "data": {
      "text/html": [
       "<strong>pdf:</strong> 2"
      ],
      "text/latex": [
       "\\textbf{pdf:} 2"
      ],
      "text/markdown": [
       "**pdf:** 2"
      ],
      "text/plain": [
       "pdf \n",
       "  2 "
      ]
     },
     "metadata": {},
     "output_type": "display_data"
    }
   ],
   "source": [
    "png(\"/Users/kosuke/Downloads/tmp.png\")\n",
    "plot(Deltadraw[,1])\n",
    "dev.off()"
   ]
  },
  {
   "cell_type": "code",
   "execution_count": null,
   "metadata": {},
   "outputs": [],
   "source": []
  }
 ],
 "metadata": {
  "kernelspec": {
   "display_name": "R",
   "language": "R",
   "name": "ir"
  },
  "language_info": {
   "codemirror_mode": "r",
   "file_extension": ".r",
   "mimetype": "text/x-r-source",
   "name": "R",
   "pygments_lexer": "r",
   "version": "3.3.3"
  }
 },
 "nbformat": 4,
 "nbformat_minor": 2
}
